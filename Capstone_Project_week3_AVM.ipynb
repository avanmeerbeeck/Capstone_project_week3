{
 "cells": [
  {
   "cell_type": "code",
   "execution_count": 1,
   "metadata": {},
   "outputs": [
    {
     "name": "stdout",
     "output_type": "stream",
     "text": [
      "200\n",
      "{'Date': 'Tue, 11 Jun 2019 13:07:43 GMT', 'Content-Type': 'text/html; charset=UTF-8', 'Content-Length': '14902', 'Connection': 'keep-alive', 'Server': 'mw1254.eqiad.wmnet', 'X-Content-Type-Options': 'nosniff', 'P3P': 'CP=\"This is not a P3P policy! See https://en.wikipedia.org/wiki/Special:CentralAutoLogin/P3P for more info.\"', 'X-Powered-By': 'HHVM/3.18.6-dev', 'Content-language': 'en', 'Last-Modified': 'Thu, 06 Jun 2019 10:22:24 GMT', 'Backend-Timing': 'D=108335 t=1560103974168521', 'Content-Encoding': 'gzip', 'Vary': 'Accept-Encoding,Cookie,Authorization,X-Seven', 'X-Varnish': '595197947 275277105, 534572633 914171420', 'Via': '1.1 varnish (Varnish/5.1), 1.1 varnish (Varnish/5.1)', 'Age': '68006', 'X-Cache': 'cp1081 hit/4, cp1085 hit/17', 'X-Cache-Status': 'hit-front', 'Server-Timing': 'cache;desc=\"hit-front\"', 'Strict-Transport-Security': 'max-age=106384710; includeSubDomains; preload', 'Set-Cookie': 'WMF-Last-Access=11-Jun-2019;Path=/;HttpOnly;secure;Expires=Sat, 13 Jul 2019 12:00:00 GMT, WMF-Last-Access-Global=11-Jun-2019;Path=/;Domain=.wikipedia.org;HttpOnly;secure;Expires=Sat, 13 Jul 2019 12:00:00 GMT, GeoIP=US:DC:Washington:38.94:-77.06:v4; Path=/; secure; Domain=.wikipedia.org', 'X-Analytics': 'ns=0;page_id=539066;https=1;nocookies=1', 'X-Client-IP': '38.88.235.122', 'Cache-Control': 'private, s-maxage=0, max-age=0, must-revalidate', 'Accept-Ranges': 'bytes'}\n"
     ]
    }
   ],
   "source": [
    "from bs4 import BeautifulSoup\n",
    "import requests\n",
    "\n",
    "\n",
    "# wikipedia 'https://en.wikipedia.org/wiki/List_of_postal_codes_of_Canada:_M'\n",
    "# check for status code and headers\n",
    "\n",
    "\n",
    "#url = 'https://en.wikipedia.org/wiki/List_of_postal_codes_of_Canada:_M'\n",
    "result = requests.get('https://en.wikipedia.org/wiki/List_of_postal_codes_of_Canada:_M')\n",
    "\n",
    "print(result.status_code)\n",
    "print(result.headers)\n"
   ]
  },
  {
   "cell_type": "markdown",
   "metadata": {},
   "source": [
    "Clean the data"
   ]
  },
  {
   "cell_type": "code",
   "execution_count": 2,
   "metadata": {},
   "outputs": [
    {
     "data": {
      "text/plain": [
       "[['M3A', 'North York', 'Parkwoods'],\n",
       " ['M4A', 'North York', 'Victoria Village'],\n",
       " ['M5A', 'Downtown Toronto', 'Harbourfront'],\n",
       " ['M5A', 'Downtown Toronto', 'Regent Park'],\n",
       " ['M6A', 'North York', 'Lawrence Heights'],\n",
       " ['M6A', 'North York', 'Lawrence Manor'],\n",
       " ['M7A', \"Queen's Park\", \"Queen's Park\"],\n",
       " ['M9A', 'Etobicoke', 'Islington Avenue'],\n",
       " ['M1B', 'Scarborough', 'Rouge'],\n",
       " ['M1B', 'Scarborough', 'Malvern'],\n",
       " ['M3B', 'North York', 'Don Mills North'],\n",
       " ['M4B', 'East York', 'Woodbine Gardens'],\n",
       " ['M4B', 'East York', 'Parkview Hill'],\n",
       " ['M5B', 'Downtown Toronto', 'Ryerson'],\n",
       " ['M5B', 'Downtown Toronto', 'Garden District'],\n",
       " ['M6B', 'North York', 'Glencairn'],\n",
       " ['M9B', 'Etobicoke', 'Cloverdale'],\n",
       " ['M9B', 'Etobicoke', 'Islington'],\n",
       " ['M9B', 'Etobicoke', 'Martin Grove'],\n",
       " ['M9B', 'Etobicoke', 'Princess Gardens'],\n",
       " ['M9B', 'Etobicoke', 'West Deane Park'],\n",
       " ['M1C', 'Scarborough', 'Highland Creek'],\n",
       " ['M1C', 'Scarborough', 'Rouge Hill'],\n",
       " ['M1C', 'Scarborough', 'Port Union'],\n",
       " ['M3C', 'North York', 'Flemingdon Park'],\n",
       " ['M3C', 'North York', 'Don Mills South'],\n",
       " ['M4C', 'East York', 'Woodbine Heights'],\n",
       " ['M5C', 'Downtown Toronto', 'St. James Town'],\n",
       " ['M6C', 'York', 'Humewood-Cedarvale'],\n",
       " ['M9C', 'Etobicoke', 'Bloordale Gardens'],\n",
       " ['M9C', 'Etobicoke', 'Eringate'],\n",
       " ['M9C', 'Etobicoke', 'Markland Wood'],\n",
       " ['M9C', 'Etobicoke', 'Old Burnhamthorpe'],\n",
       " ['M1E', 'Scarborough', 'Guildwood'],\n",
       " ['M1E', 'Scarborough', 'Morningside'],\n",
       " ['M1E', 'Scarborough', 'West Hill'],\n",
       " ['M4E', 'East Toronto', 'The Beaches'],\n",
       " ['M5E', 'Downtown Toronto', 'Berczy Park'],\n",
       " ['M6E', 'York', 'Caledonia-Fairbanks'],\n",
       " ['M1G', 'Scarborough', 'Woburn'],\n",
       " ['M4G', 'East York', 'Leaside'],\n",
       " ['M5G', 'Downtown Toronto', 'Central Bay Street'],\n",
       " ['M6G', 'Downtown Toronto', 'Christie'],\n",
       " ['M1H', 'Scarborough', 'Cedarbrae'],\n",
       " ['M2H', 'North York', 'Hillcrest Village'],\n",
       " ['M3H', 'North York', 'Bathurst Manor'],\n",
       " ['M3H', 'North York', 'Downsview North'],\n",
       " ['M3H', 'North York', 'Wilson Heights'],\n",
       " ['M4H', 'East York', 'Thorncliffe Park'],\n",
       " ['M5H', 'Downtown Toronto', 'Adelaide'],\n",
       " ['M5H', 'Downtown Toronto', 'King'],\n",
       " ['M5H', 'Downtown Toronto', 'Richmond'],\n",
       " ['M6H', 'West Toronto', 'Dovercourt Village'],\n",
       " ['M6H', 'West Toronto', 'Dufferin'],\n",
       " ['M1J', 'Scarborough', 'Scarborough Village'],\n",
       " ['M2J', 'North York', 'Fairview'],\n",
       " ['M2J', 'North York', 'Henry Farm'],\n",
       " ['M2J', 'North York', 'Oriole'],\n",
       " ['M3J', 'North York', 'Northwood Park'],\n",
       " ['M3J', 'North York', 'York University'],\n",
       " ['M4J', 'East York', 'East Toronto'],\n",
       " ['M5J', 'Downtown Toronto', 'Harbourfront East'],\n",
       " ['M5J', 'Downtown Toronto', 'Toronto Islands'],\n",
       " ['M5J', 'Downtown Toronto', 'Union Station'],\n",
       " ['M6J', 'West Toronto', 'Little Portugal'],\n",
       " ['M6J', 'West Toronto', 'Trinity'],\n",
       " ['M1K', 'Scarborough', 'East Birchmount Park'],\n",
       " ['M1K', 'Scarborough', 'Ionview'],\n",
       " ['M1K', 'Scarborough', 'Kennedy Park'],\n",
       " ['M2K', 'North York', 'Bayview Village'],\n",
       " ['M3K', 'North York', 'CFB Toronto'],\n",
       " ['M3K', 'North York', 'Downsview East'],\n",
       " ['M4K', 'East Toronto', 'The Danforth West'],\n",
       " ['M4K', 'East Toronto', 'Riverdale'],\n",
       " ['M5K', 'Downtown Toronto', 'Design Exchange'],\n",
       " ['M5K', 'Downtown Toronto', 'Toronto Dominion Centre'],\n",
       " ['M6K', 'West Toronto', 'Brockton'],\n",
       " ['M6K', 'West Toronto', 'Exhibition Place'],\n",
       " ['M6K', 'West Toronto', 'Parkdale Village'],\n",
       " ['M1L', 'Scarborough', 'Clairlea'],\n",
       " ['M1L', 'Scarborough', 'Golden Mile'],\n",
       " ['M1L', 'Scarborough', 'Oakridge'],\n",
       " ['M2L', 'North York', 'Silver Hills'],\n",
       " ['M2L', 'North York', 'York Mills'],\n",
       " ['M3L', 'North York', 'Downsview West'],\n",
       " ['M4L', 'East Toronto', 'The Beaches West'],\n",
       " ['M4L', 'East Toronto', 'India Bazaar'],\n",
       " ['M5L', 'Downtown Toronto', 'Commerce Court'],\n",
       " ['M5L', 'Downtown Toronto', 'Victoria Hotel'],\n",
       " ['M6L', 'North York', 'Downsview'],\n",
       " ['M6L', 'North York', 'North Park'],\n",
       " ['M6L', 'North York', 'Upwood Park'],\n",
       " ['M9L', 'North York', 'Humber Summit'],\n",
       " ['M1M', 'Scarborough', 'Cliffcrest'],\n",
       " ['M1M', 'Scarborough', 'Cliffside'],\n",
       " ['M1M', 'Scarborough', 'Scarborough Village West'],\n",
       " ['M2M', 'North York', 'Newtonbrook'],\n",
       " ['M2M', 'North York', 'Willowdale'],\n",
       " ['M3M', 'North York', 'Downsview Central'],\n",
       " ['M4M', 'East Toronto', 'Studio District'],\n",
       " ['M5M', 'North York', 'Bedford Park'],\n",
       " ['M5M', 'North York', 'Lawrence Manor East'],\n",
       " ['M6M', 'York', 'Del Ray'],\n",
       " ['M6M', 'York', 'Keelesdale'],\n",
       " ['M6M', 'York', 'Mount Dennis'],\n",
       " ['M6M', 'York', 'Silverthorn'],\n",
       " ['M9M', 'North York', 'Emery'],\n",
       " ['M9M', 'North York', 'Humberlea'],\n",
       " ['M1N', 'Scarborough', 'Birch Cliff'],\n",
       " ['M1N', 'Scarborough', 'Cliffside West'],\n",
       " ['M2N', 'North York', 'Willowdale South'],\n",
       " ['M3N', 'North York', 'Downsview Northwest'],\n",
       " ['M4N', 'Central Toronto', 'Lawrence Park'],\n",
       " ['M5N', 'Central Toronto', 'Roselawn'],\n",
       " ['M6N', 'York', 'The Junction North'],\n",
       " ['M6N', 'York', 'Runnymede'],\n",
       " ['M9N', 'York', 'Weston'],\n",
       " ['M1P', 'Scarborough', 'Dorset Park'],\n",
       " ['M1P', 'Scarborough', 'Scarborough Town Centre'],\n",
       " ['M1P', 'Scarborough', 'Wexford Heights'],\n",
       " ['M2P', 'North York', 'York Mills West'],\n",
       " ['M4P', 'Central Toronto', 'Davisville North'],\n",
       " ['M5P', 'Central Toronto', 'Forest Hill North'],\n",
       " ['M5P', 'Central Toronto', 'Forest Hill West'],\n",
       " ['M6P', 'West Toronto', 'High Park'],\n",
       " ['M6P', 'West Toronto', 'The Junction South'],\n",
       " ['M9P', 'Etobicoke', 'Westmount'],\n",
       " ['M1R', 'Scarborough', 'Maryvale'],\n",
       " ['M1R', 'Scarborough', 'Wexford'],\n",
       " ['M2R', 'North York', 'Willowdale West'],\n",
       " ['M4R', 'Central Toronto', 'North Toronto West'],\n",
       " ['M5R', 'Central Toronto', 'The Annex'],\n",
       " ['M5R', 'Central Toronto', 'North Midtown'],\n",
       " ['M5R', 'Central Toronto', 'Yorkville'],\n",
       " ['M6R', 'West Toronto', 'Parkdale'],\n",
       " ['M6R', 'West Toronto', 'Roncesvalles'],\n",
       " ['M7R', 'Mississauga', 'Canada Post Gateway Processing Centre'],\n",
       " ['M9R', 'Etobicoke', 'Kingsview Village'],\n",
       " ['M9R', 'Etobicoke', 'Martin Grove Gardens'],\n",
       " ['M9R', 'Etobicoke', 'Richview Gardens'],\n",
       " ['M9R', 'Etobicoke', 'St. Phillips'],\n",
       " ['M1S', 'Scarborough', 'Agincourt'],\n",
       " ['M4S', 'Central Toronto', 'Davisville'],\n",
       " ['M5S', 'Downtown Toronto', 'Harbord'],\n",
       " ['M5S', 'Downtown Toronto', 'University of Toronto'],\n",
       " ['M6S', 'West Toronto', 'Runnymede'],\n",
       " ['M6S', 'West Toronto', 'Swansea'],\n",
       " ['M1T', 'Scarborough', 'Clarks Corners'],\n",
       " ['M1T', 'Scarborough', 'Sullivan'],\n",
       " ['M1T', 'Scarborough', \"Tam O'Shanter\"],\n",
       " ['M4T', 'Central Toronto', 'Moore Park'],\n",
       " ['M4T', 'Central Toronto', 'Summerhill East'],\n",
       " ['M5T', 'Downtown Toronto', 'Chinatown'],\n",
       " ['M5T', 'Downtown Toronto', 'Grange Park'],\n",
       " ['M5T', 'Downtown Toronto', 'Kensington Market'],\n",
       " ['M1V', 'Scarborough', 'Agincourt North'],\n",
       " ['M1V', 'Scarborough', \"L'Amoreaux East\"],\n",
       " ['M1V', 'Scarborough', 'Milliken'],\n",
       " ['M1V', 'Scarborough', 'Steeles East'],\n",
       " ['M4V', 'Central Toronto', 'Deer Park'],\n",
       " ['M4V', 'Central Toronto', 'Forest Hill SE'],\n",
       " ['M4V', 'Central Toronto', 'Rathnelly'],\n",
       " ['M4V', 'Central Toronto', 'South Hill'],\n",
       " ['M4V', 'Central Toronto', 'Summerhill West'],\n",
       " ['M5V', 'Downtown Toronto', 'CN Tower'],\n",
       " ['M5V', 'Downtown Toronto', 'Bathurst Quay'],\n",
       " ['M5V', 'Downtown Toronto', 'Island airport'],\n",
       " ['M5V', 'Downtown Toronto', 'Harbourfront West'],\n",
       " ['M5V', 'Downtown Toronto', 'King and Spadina'],\n",
       " ['M5V', 'Downtown Toronto', 'Railway Lands'],\n",
       " ['M5V', 'Downtown Toronto', 'South Niagara'],\n",
       " ['M8V', 'Etobicoke', 'Humber Bay Shores'],\n",
       " ['M8V', 'Etobicoke', 'Mimico South'],\n",
       " ['M8V', 'Etobicoke', 'New Toronto'],\n",
       " ['M9V', 'Etobicoke', 'Albion Gardens'],\n",
       " ['M9V', 'Etobicoke', 'Beaumond Heights'],\n",
       " ['M9V', 'Etobicoke', 'Humbergate'],\n",
       " ['M9V', 'Etobicoke', 'Jamestown'],\n",
       " ['M9V', 'Etobicoke', 'Mount Olive'],\n",
       " ['M9V', 'Etobicoke', 'Silverstone'],\n",
       " ['M9V', 'Etobicoke', 'South Steeles'],\n",
       " ['M9V', 'Etobicoke', 'Thistletown'],\n",
       " ['M1W', 'Scarborough', \"L'Amoreaux West\"],\n",
       " ['M4W', 'Downtown Toronto', 'Rosedale'],\n",
       " ['M5W', 'Downtown Toronto', 'Stn A PO Boxes 25 The Esplanade'],\n",
       " ['M8W', 'Etobicoke', 'Alderwood'],\n",
       " ['M8W', 'Etobicoke', 'Long Branch'],\n",
       " ['M9W', 'Etobicoke', 'Northwest'],\n",
       " ['M1X', 'Scarborough', 'Upper Rouge'],\n",
       " ['M4X', 'Downtown Toronto', 'Cabbagetown'],\n",
       " ['M4X', 'Downtown Toronto', 'St. James Town'],\n",
       " ['M5X', 'Downtown Toronto', 'First Canadian Place'],\n",
       " ['M5X', 'Downtown Toronto', 'Underground city'],\n",
       " ['M8X', 'Etobicoke', 'The Kingsway'],\n",
       " ['M8X', 'Etobicoke', 'Montgomery Road'],\n",
       " ['M8X', 'Etobicoke', 'Old Mill North'],\n",
       " ['M4Y', 'Downtown Toronto', 'Church and Wellesley'],\n",
       " ['M7Y', 'East Toronto', 'Business Reply Mail Processing Centre 969 Eastern'],\n",
       " ['M8Y', 'Etobicoke', 'Humber Bay'],\n",
       " ['M8Y', 'Etobicoke', \"King's Mill Park\"],\n",
       " ['M8Y', 'Etobicoke', 'Kingsway Park South East'],\n",
       " ['M8Y', 'Etobicoke', 'Mimico NE'],\n",
       " ['M8Y', 'Etobicoke', 'Old Mill South'],\n",
       " ['M8Y', 'Etobicoke', 'The Queensway East'],\n",
       " ['M8Y', 'Etobicoke', 'Royal York South East'],\n",
       " ['M8Y', 'Etobicoke', 'Sunnylea'],\n",
       " ['M8Z', 'Etobicoke', 'Kingsway Park South West'],\n",
       " ['M8Z', 'Etobicoke', 'Mimico NW'],\n",
       " ['M8Z', 'Etobicoke', 'The Queensway West'],\n",
       " ['M8Z', 'Etobicoke', 'Royal York South West'],\n",
       " ['M8Z', 'Etobicoke', 'South of Bloor']]"
      ]
     },
     "execution_count": 2,
     "metadata": {},
     "output_type": "execute_result"
    }
   ],
   "source": [
    "soup = BeautifulSoup(result.content, 'html.parser')\n",
    "table = soup.find('table')\n",
    "trs = table.find_all('tr')\n",
    "rows = []\n",
    "for tr in trs:\n",
    "    i = tr.find_all('td')\n",
    "    if i:\n",
    "        rows.append(i)\n",
    "        \n",
    "lst = []\n",
    "for row in rows:\n",
    "    postalcode = row[0].text.rstrip()\n",
    "    borough = row[1].text.rstrip()\n",
    "    neighborhood = row[2].text.rstrip()\n",
    "    if borough != 'Not assigned':\n",
    "        if neighborhood == 'Not assigned':\n",
    "            neighborhood = borough\n",
    "        lst.append([postalcode, borough, neighborhood])\n",
    "\n",
    "lst"
   ]
  },
  {
   "cell_type": "code",
   "execution_count": 3,
   "metadata": {},
   "outputs": [],
   "source": [
    "import numpy as np\n",
    "import pandas as pd"
   ]
  },
  {
   "cell_type": "code",
   "execution_count": 4,
   "metadata": {},
   "outputs": [
    {
     "name": "stdout",
     "output_type": "stream",
     "text": [
      "(211, 3)\n"
     ]
    }
   ],
   "source": [
    "df = pd.DataFrame(lst, columns= ['postalcode', 'borough', 'neighborhood'])\n",
    "print(df.shape)"
   ]
  },
  {
   "cell_type": "markdown",
   "metadata": {},
   "source": [
    "Delete rows with \"Not assigned\""
   ]
  },
  {
   "cell_type": "code",
   "execution_count": 5,
   "metadata": {},
   "outputs": [],
   "source": [
    "df_final = df[df.borough != 'Not assigned']\n",
    "df_final.reset_index(drop = True, inplace = True)\n",
    "\n",
    "df_final = df.groupby(['postalcode', 'borough'], as_index=False).agg(lambda neighborhoods: ', '.join(neighborhoods))"
   ]
  },
  {
   "cell_type": "code",
   "execution_count": 6,
   "metadata": {},
   "outputs": [
    {
     "data": {
      "text/html": [
       "<div>\n",
       "<style scoped>\n",
       "    .dataframe tbody tr th:only-of-type {\n",
       "        vertical-align: middle;\n",
       "    }\n",
       "\n",
       "    .dataframe tbody tr th {\n",
       "        vertical-align: top;\n",
       "    }\n",
       "\n",
       "    .dataframe thead th {\n",
       "        text-align: right;\n",
       "    }\n",
       "</style>\n",
       "<table border=\"1\" class=\"dataframe\">\n",
       "  <thead>\n",
       "    <tr style=\"text-align: right;\">\n",
       "      <th></th>\n",
       "      <th>postalcode</th>\n",
       "      <th>borough</th>\n",
       "      <th>neighborhood</th>\n",
       "    </tr>\n",
       "  </thead>\n",
       "  <tbody>\n",
       "    <tr>\n",
       "      <th>0</th>\n",
       "      <td>M1B</td>\n",
       "      <td>Scarborough</td>\n",
       "      <td>Rouge, Malvern</td>\n",
       "    </tr>\n",
       "    <tr>\n",
       "      <th>1</th>\n",
       "      <td>M1C</td>\n",
       "      <td>Scarborough</td>\n",
       "      <td>Highland Creek, Rouge Hill, Port Union</td>\n",
       "    </tr>\n",
       "    <tr>\n",
       "      <th>2</th>\n",
       "      <td>M1E</td>\n",
       "      <td>Scarborough</td>\n",
       "      <td>Guildwood, Morningside, West Hill</td>\n",
       "    </tr>\n",
       "    <tr>\n",
       "      <th>3</th>\n",
       "      <td>M1G</td>\n",
       "      <td>Scarborough</td>\n",
       "      <td>Woburn</td>\n",
       "    </tr>\n",
       "    <tr>\n",
       "      <th>4</th>\n",
       "      <td>M1H</td>\n",
       "      <td>Scarborough</td>\n",
       "      <td>Cedarbrae</td>\n",
       "    </tr>\n",
       "  </tbody>\n",
       "</table>\n",
       "</div>"
      ],
      "text/plain": [
       "  postalcode      borough                            neighborhood\n",
       "0        M1B  Scarborough                          Rouge, Malvern\n",
       "1        M1C  Scarborough  Highland Creek, Rouge Hill, Port Union\n",
       "2        M1E  Scarborough       Guildwood, Morningside, West Hill\n",
       "3        M1G  Scarborough                                  Woburn\n",
       "4        M1H  Scarborough                               Cedarbrae"
      ]
     },
     "execution_count": 6,
     "metadata": {},
     "output_type": "execute_result"
    }
   ],
   "source": [
    "df_final.head()"
   ]
  },
  {
   "cell_type": "code",
   "execution_count": 7,
   "metadata": {},
   "outputs": [
    {
     "data": {
      "text/plain": [
       "(103, 3)"
      ]
     },
     "execution_count": 7,
     "metadata": {},
     "output_type": "execute_result"
    }
   ],
   "source": [
    "df_final.shape"
   ]
  },
  {
   "cell_type": "markdown",
   "metadata": {},
   "source": [
    "Add columns Latitude & Longitude in df_final"
   ]
  },
  {
   "cell_type": "code",
   "execution_count": 8,
   "metadata": {},
   "outputs": [],
   "source": [
    "df_final['Latitude'] = 0.00\n",
    "df_final['Longitude'] = 0.00"
   ]
  },
  {
   "cell_type": "code",
   "execution_count": 9,
   "metadata": {},
   "outputs": [
    {
     "data": {
      "text/plain": [
       "(103, 5)"
      ]
     },
     "execution_count": 9,
     "metadata": {},
     "output_type": "execute_result"
    }
   ],
   "source": [
    "df_final.shape"
   ]
  },
  {
   "cell_type": "markdown",
   "metadata": {},
   "source": [
    "Get the csv file with the geolocation data"
   ]
  },
  {
   "cell_type": "code",
   "execution_count": 10,
   "metadata": {},
   "outputs": [
    {
     "name": "stdout",
     "output_type": "stream",
     "text": [
      "--2019-06-11 09:11:49--  http://cocl.us/Geospatial_data/\n",
      "Resolving cocl.us... 169.48.113.201\n",
      "Connecting to cocl.us|169.48.113.201|:80... connected.\n",
      "HTTP request sent, awaiting response... 301 Moved Permanently\n",
      "Location: https://cocl.us/Geospatial_data/ [following]\n",
      "--2019-06-11 09:11:49--  https://cocl.us/Geospatial_data/\n",
      "Connecting to cocl.us|169.48.113.201|:443... connected.\n",
      "HTTP request sent, awaiting response... 301 Moved Permanently\n",
      "Location: https://ibm.box.com/shared/static/9afzr83pps4pwf2smjjcf1y5mvgb18rr.csv [following]\n",
      "--2019-06-11 09:11:50--  https://ibm.box.com/shared/static/9afzr83pps4pwf2smjjcf1y5mvgb18rr.csv\n",
      "Resolving ibm.box.com... 107.152.27.197, 107.152.26.197\n",
      "Connecting to ibm.box.com|107.152.27.197|:443... connected.\n",
      "HTTP request sent, awaiting response... 301 Moved Permanently\n",
      "Location: /public/static/9afzr83pps4pwf2smjjcf1y5mvgb18rr.csv [following]\n",
      "--2019-06-11 09:11:50--  https://ibm.box.com/public/static/9afzr83pps4pwf2smjjcf1y5mvgb18rr.csv\n",
      "Reusing existing connection to ibm.box.com:443.\n",
      "HTTP request sent, awaiting response... 301 Moved Permanently\n",
      "Location: https://ibm.ent.box.com/public/static/9afzr83pps4pwf2smjjcf1y5mvgb18rr.csv [following]\n",
      "--2019-06-11 09:11:50--  https://ibm.ent.box.com/public/static/9afzr83pps4pwf2smjjcf1y5mvgb18rr.csv\n",
      "Resolving ibm.ent.box.com... 107.152.27.211, 107.152.26.211\n",
      "Connecting to ibm.ent.box.com|107.152.27.211|:443... connected.\n",
      "HTTP request sent, awaiting response... 302 Found\n",
      "Location: https://public.boxcloud.com/d/1/b1!XdpgwMOJ8W3Nv7Jh1TYZ9mEZDX0wkdsDpJCQbWHW-xCCAfOiy8carIW0C2bmmr-tRKN7IETsNslF0UM6Q5Cm54sV8MKyWAMyQrgb6t8IZjSXBTkk0Yr-Be31v6MxkPNWcm1-L-Nvj4kmomxCC4-CRY14Lr3Zwpw6yJieuwRlYKR2luTvJ6CmwJimzlaE3Z-3mSEXdU93IcclpETvTRLEEgnqZOj-dnLAEFHU-VhI7BxEALl9QVFO4L71pjGcEO-ZKLzHeHg5VZ7gK4q2mdXD4kYDKHonHtjtxc6xb-grzrUYQ8XTSi85MIZVXWPYuXmPaO3wUH0yfqpk7mJbhcx7MorfJXAVTtPB1hZ4F38K9dBoM0w-DUZYSCQo701C3CnEQ8kNKgBryNyna3umQ3w88rFV0phgTQgIMeKZ9HH4vKDk15GSpjNW5sJvgVkxBeu1P4zhazB3F4b-MgupbRlJmcwYCwCNWReca7Z0azfte-4WDxbsQDUPvBpxtnZUM1hxNUkGqy9p8Jy_gqjcF_i9yOtivwN7wGrHgGE607r7d4ybySM8CyATGpYfzYyHbqiKN9Z87jhbLBLjTx2wtaTDjoM0i-g9zmdd-VQUghxlR_N3QIlYJOD3mHGXwUrthIZrHBplBtF92h_jPWD0rLOhUmejYeyOT3oNv0hsyjkwYae5gEDPnP8k5dWAKR14Hw2binHKV6M5PFXfe5GZTtdhW4h_8rap1BBiNtlfMM9PU9bjd8AeOQ7cK4v7F1eVsThd5H8AxmjYvSRosVAnugmWbaxKy8RfWtJahUXiQwxsFSa-ZefsLHTCXJKj_Klg68az42ccgdACzuEvbAZ1R5sl5VR0H8XzXD-QgCzj8qUE3c-axj5qzi9Og-9zQmpXztmSN3ZFpNokheukvS7zij-uRWMgYewLzqC0ho2YSs0gh1mMJquul9WqUHqBDKaEwaZWwFoH0HjGHYGPC-cls0AeJxna_M_9H7e2o2qr7HPIUuiqrcrvtW-lOuioinAGsz4Swkvy_BsMi_xXmNDt7gcoltXw0M2IvrezJEqEqDTrHH6jpzLPQIG_OBzN19LCrgbeA3_hspQUzgSTPJIP288Dpbz2bj1_dJpr338v-2la197D72BEYFgx8qqCUCoXVRxYJgB82KiFili1JOBRW-am9KBdhl0yZxqnnqswOm60tOJ3cEkF40VA2kyApE5o3lulVEByFSNvTrXSZdnA72ZLPAr6Tc8bBQG3_eXjpjNWCsxDuAz5cT7oHoCZ83hgRgSKn0_grcysGgBUNem17nhvRAsk542qagSpbAkpNRBvaH7JEj7GRpHqKt8yfKXXVQvNsxBQrJceSt_6Ij3sdzXyDqUrLv-o885_GE24UaAhmdgX-e3R_EUCDF4./download [following]\n",
      "--2019-06-11 09:11:51--  https://public.boxcloud.com/d/1/b1!XdpgwMOJ8W3Nv7Jh1TYZ9mEZDX0wkdsDpJCQbWHW-xCCAfOiy8carIW0C2bmmr-tRKN7IETsNslF0UM6Q5Cm54sV8MKyWAMyQrgb6t8IZjSXBTkk0Yr-Be31v6MxkPNWcm1-L-Nvj4kmomxCC4-CRY14Lr3Zwpw6yJieuwRlYKR2luTvJ6CmwJimzlaE3Z-3mSEXdU93IcclpETvTRLEEgnqZOj-dnLAEFHU-VhI7BxEALl9QVFO4L71pjGcEO-ZKLzHeHg5VZ7gK4q2mdXD4kYDKHonHtjtxc6xb-grzrUYQ8XTSi85MIZVXWPYuXmPaO3wUH0yfqpk7mJbhcx7MorfJXAVTtPB1hZ4F38K9dBoM0w-DUZYSCQo701C3CnEQ8kNKgBryNyna3umQ3w88rFV0phgTQgIMeKZ9HH4vKDk15GSpjNW5sJvgVkxBeu1P4zhazB3F4b-MgupbRlJmcwYCwCNWReca7Z0azfte-4WDxbsQDUPvBpxtnZUM1hxNUkGqy9p8Jy_gqjcF_i9yOtivwN7wGrHgGE607r7d4ybySM8CyATGpYfzYyHbqiKN9Z87jhbLBLjTx2wtaTDjoM0i-g9zmdd-VQUghxlR_N3QIlYJOD3mHGXwUrthIZrHBplBtF92h_jPWD0rLOhUmejYeyOT3oNv0hsyjkwYae5gEDPnP8k5dWAKR14Hw2binHKV6M5PFXfe5GZTtdhW4h_8rap1BBiNtlfMM9PU9bjd8AeOQ7cK4v7F1eVsThd5H8AxmjYvSRosVAnugmWbaxKy8RfWtJahUXiQwxsFSa-ZefsLHTCXJKj_Klg68az42ccgdACzuEvbAZ1R5sl5VR0H8XzXD-QgCzj8qUE3c-axj5qzi9Og-9zQmpXztmSN3ZFpNokheukvS7zij-uRWMgYewLzqC0ho2YSs0gh1mMJquul9WqUHqBDKaEwaZWwFoH0HjGHYGPC-cls0AeJxna_M_9H7e2o2qr7HPIUuiqrcrvtW-lOuioinAGsz4Swkvy_BsMi_xXmNDt7gcoltXw0M2IvrezJEqEqDTrHH6jpzLPQIG_OBzN19LCrgbeA3_hspQUzgSTPJIP288Dpbz2bj1_dJpr338v-2la197D72BEYFgx8qqCUCoXVRxYJgB82KiFili1JOBRW-am9KBdhl0yZxqnnqswOm60tOJ3cEkF40VA2kyApE5o3lulVEByFSNvTrXSZdnA72ZLPAr6Tc8bBQG3_eXjpjNWCsxDuAz5cT7oHoCZ83hgRgSKn0_grcysGgBUNem17nhvRAsk542qagSpbAkpNRBvaH7JEj7GRpHqKt8yfKXXVQvNsxBQrJceSt_6Ij3sdzXyDqUrLv-o885_GE24UaAhmdgX-e3R_EUCDF4./download\n",
      "Resolving public.boxcloud.com... 107.152.26.200, 107.152.27.200\n",
      "Connecting to public.boxcloud.com|107.152.26.200|:443... connected.\n",
      "HTTP request sent, awaiting response... 200 OK\n",
      "Length: 2891 (2.8K) [text/csv]\n",
      "Saving to: 'Geospatial_Coordinates.csv'\n",
      "\n",
      "Geospatial_Coordina 100%[===================>]   2.82K  --.-KB/s    in 0s      \n",
      "\n",
      "2019-06-11 09:11:51 (106 MB/s) - 'Geospatial_Coordinates.csv' saved [2891/2891]\n",
      "\n"
     ]
    }
   ],
   "source": [
    "!wget -O Geospatial_Coordinates.csv http://cocl.us/Geospatial_data/"
   ]
  },
  {
   "cell_type": "markdown",
   "metadata": {},
   "source": [
    "Read the data"
   ]
  },
  {
   "cell_type": "code",
   "execution_count": 11,
   "metadata": {},
   "outputs": [
    {
     "data": {
      "text/html": [
       "<div>\n",
       "<style scoped>\n",
       "    .dataframe tbody tr th:only-of-type {\n",
       "        vertical-align: middle;\n",
       "    }\n",
       "\n",
       "    .dataframe tbody tr th {\n",
       "        vertical-align: top;\n",
       "    }\n",
       "\n",
       "    .dataframe thead th {\n",
       "        text-align: right;\n",
       "    }\n",
       "</style>\n",
       "<table border=\"1\" class=\"dataframe\">\n",
       "  <thead>\n",
       "    <tr style=\"text-align: right;\">\n",
       "      <th></th>\n",
       "      <th>Postal Code</th>\n",
       "      <th>Latitude</th>\n",
       "      <th>Longitude</th>\n",
       "    </tr>\n",
       "  </thead>\n",
       "  <tbody>\n",
       "    <tr>\n",
       "      <th>0</th>\n",
       "      <td>M1B</td>\n",
       "      <td>43.806686</td>\n",
       "      <td>-79.194353</td>\n",
       "    </tr>\n",
       "    <tr>\n",
       "      <th>1</th>\n",
       "      <td>M1C</td>\n",
       "      <td>43.784535</td>\n",
       "      <td>-79.160497</td>\n",
       "    </tr>\n",
       "    <tr>\n",
       "      <th>2</th>\n",
       "      <td>M1E</td>\n",
       "      <td>43.763573</td>\n",
       "      <td>-79.188711</td>\n",
       "    </tr>\n",
       "    <tr>\n",
       "      <th>3</th>\n",
       "      <td>M1G</td>\n",
       "      <td>43.770992</td>\n",
       "      <td>-79.216917</td>\n",
       "    </tr>\n",
       "    <tr>\n",
       "      <th>4</th>\n",
       "      <td>M1H</td>\n",
       "      <td>43.773136</td>\n",
       "      <td>-79.239476</td>\n",
       "    </tr>\n",
       "  </tbody>\n",
       "</table>\n",
       "</div>"
      ],
      "text/plain": [
       "  Postal Code   Latitude  Longitude\n",
       "0         M1B  43.806686 -79.194353\n",
       "1         M1C  43.784535 -79.160497\n",
       "2         M1E  43.763573 -79.188711\n",
       "3         M1G  43.770992 -79.216917\n",
       "4         M1H  43.773136 -79.239476"
      ]
     },
     "execution_count": 11,
     "metadata": {},
     "output_type": "execute_result"
    }
   ],
   "source": [
    "df_geocord = pd.read_csv('Geospatial_Coordinates.csv')\n",
    "df_geocord.head()"
   ]
  },
  {
   "cell_type": "markdown",
   "metadata": {},
   "source": [
    "Pull geolocation data from df_geoform and add to df_final"
   ]
  },
  {
   "cell_type": "code",
   "execution_count": 12,
   "metadata": {},
   "outputs": [
    {
     "data": {
      "text/html": [
       "<div>\n",
       "<style scoped>\n",
       "    .dataframe tbody tr th:only-of-type {\n",
       "        vertical-align: middle;\n",
       "    }\n",
       "\n",
       "    .dataframe tbody tr th {\n",
       "        vertical-align: top;\n",
       "    }\n",
       "\n",
       "    .dataframe thead th {\n",
       "        text-align: right;\n",
       "    }\n",
       "</style>\n",
       "<table border=\"1\" class=\"dataframe\">\n",
       "  <thead>\n",
       "    <tr style=\"text-align: right;\">\n",
       "      <th></th>\n",
       "      <th>postalcode</th>\n",
       "      <th>borough</th>\n",
       "      <th>neighborhood</th>\n",
       "      <th>Latitude</th>\n",
       "      <th>Longitude</th>\n",
       "    </tr>\n",
       "  </thead>\n",
       "  <tbody>\n",
       "    <tr>\n",
       "      <th>0</th>\n",
       "      <td>M1B</td>\n",
       "      <td>Scarborough</td>\n",
       "      <td>Rouge, Malvern</td>\n",
       "      <td>43.806686</td>\n",
       "      <td>-79.194353</td>\n",
       "    </tr>\n",
       "    <tr>\n",
       "      <th>1</th>\n",
       "      <td>M1C</td>\n",
       "      <td>Scarborough</td>\n",
       "      <td>Highland Creek, Rouge Hill, Port Union</td>\n",
       "      <td>43.784535</td>\n",
       "      <td>-79.160497</td>\n",
       "    </tr>\n",
       "    <tr>\n",
       "      <th>2</th>\n",
       "      <td>M1E</td>\n",
       "      <td>Scarborough</td>\n",
       "      <td>Guildwood, Morningside, West Hill</td>\n",
       "      <td>43.763573</td>\n",
       "      <td>-79.188711</td>\n",
       "    </tr>\n",
       "    <tr>\n",
       "      <th>3</th>\n",
       "      <td>M1G</td>\n",
       "      <td>Scarborough</td>\n",
       "      <td>Woburn</td>\n",
       "      <td>43.770992</td>\n",
       "      <td>-79.216917</td>\n",
       "    </tr>\n",
       "    <tr>\n",
       "      <th>4</th>\n",
       "      <td>M1H</td>\n",
       "      <td>Scarborough</td>\n",
       "      <td>Cedarbrae</td>\n",
       "      <td>43.773136</td>\n",
       "      <td>-79.239476</td>\n",
       "    </tr>\n",
       "  </tbody>\n",
       "</table>\n",
       "</div>"
      ],
      "text/plain": [
       "  postalcode      borough                            neighborhood   Latitude  \\\n",
       "0        M1B  Scarborough                          Rouge, Malvern  43.806686   \n",
       "1        M1C  Scarborough  Highland Creek, Rouge Hill, Port Union  43.784535   \n",
       "2        M1E  Scarborough       Guildwood, Morningside, West Hill  43.763573   \n",
       "3        M1G  Scarborough                                  Woburn  43.770992   \n",
       "4        M1H  Scarborough                               Cedarbrae  43.773136   \n",
       "\n",
       "   Longitude  \n",
       "0 -79.194353  \n",
       "1 -79.160497  \n",
       "2 -79.188711  \n",
       "3 -79.216917  \n",
       "4 -79.239476  "
      ]
     },
     "execution_count": 12,
     "metadata": {},
     "output_type": "execute_result"
    }
   ],
   "source": [
    "for idx in df_final.index:\n",
    "    geocord_idx = df_geocord['Postal Code'] == df_final.loc[idx, 'postalcode']\n",
    "    df_final.at[idx, 'Latitude'] = df_geocord.loc[geocord_idx, 'Latitude'].values\n",
    "    df_final.at[idx, 'Longitude'] = df_geocord.loc[geocord_idx, 'Longitude'].values\n",
    "\n",
    "\n",
    "df_final.head()"
   ]
  },
  {
   "cell_type": "code",
   "execution_count": 13,
   "metadata": {},
   "outputs": [
    {
     "data": {
      "text/plain": [
       "(103, 5)"
      ]
     },
     "execution_count": 13,
     "metadata": {},
     "output_type": "execute_result"
    }
   ],
   "source": [
    "df_final.shape"
   ]
  },
  {
   "cell_type": "code",
   "execution_count": null,
   "metadata": {},
   "outputs": [],
   "source": []
  }
 ],
 "metadata": {
  "kernelspec": {
   "display_name": "Python 3",
   "language": "python",
   "name": "python3"
  },
  "language_info": {
   "codemirror_mode": {
    "name": "ipython",
    "version": 3
   },
   "file_extension": ".py",
   "mimetype": "text/x-python",
   "name": "python",
   "nbconvert_exporter": "python",
   "pygments_lexer": "ipython3",
   "version": "3.7.1"
  }
 },
 "nbformat": 4,
 "nbformat_minor": 2
}
